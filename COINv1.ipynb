{
 "cells": [
  {
   "cell_type": "code",
   "execution_count": 1,
   "metadata": {
    "colab": {},
    "colab_type": "code",
    "id": "bsLrGmT64dRe"
   },
   "outputs": [],
   "source": [
    "import numpy as np\n",
    "import matplotlib.pyplot as plt\n",
    "from sklearn.neighbors import NearestNeighbors\n",
    "from sklearn.svm import LinearSVC\n",
    "from sklearn.cluster import DBSCAN"
   ]
  },
  {
   "cell_type": "code",
   "execution_count": 2,
   "metadata": {
    "colab": {},
    "colab_type": "code",
    "id": "6AsMER9m4dRi"
   },
   "outputs": [],
   "source": [
    "y = np.array([ 1, 1, 1, 1, 1, 1, 1, 1, 1, 1, 1, 1, 1, 1, 1, 1, 1, 1, 1, -1, 1, 1, 1, 1,\n",
    "     1, 1, 1, 1, 1, 1, 1, 1, 1, 1, 1, -1, 1, 1, 1, 1, 1, -1, 1, 1, 1, -1, 1, 1,\n",
    "     1, 1, 1, 1, 1, 1, 1, -1, 1, 1, 1, 1, 1, 1, 1, 1, 1, 1, 1, 1, 1, 1, -1, 1,\n",
    "     1, 1, 1, 1, 1, -1, 1, 1, 1, 1, 1, 1, 1, -1, -1, 1, 1, 1, 1, 1, 1, 1, 1, 1,\n",
    "     -1, 1, 1, 1, -1, 1, 1, 1, 1, 1, 1, 1, -1, 1, 1, 1, 1])\n",
    "\n",
    "x = np.array([[0.094128, 0.333981, 0.46835, 0.995641, 0.739581],\n",
    " [0.113254, 0.196173, 0.496645, 0.950884, 0.388173],\n",
    " [0.045382, 0.154497, 0.527051, 0.992132, 0.505884],\n",
    " [0.033021, 0.469827, 0.47808, 0.962484, 0.544174],\n",
    " [0.121308, 0.52081, 0.615215, 0.978913, 0.533457],\n",
    " [0.142126, 0.333985, 0.727274, 0.977759, 0.679125],\n",
    " [0.020281, 0.467942, 0.565414, 0.996128, 0.951096],\n",
    " [0.110687, 0.379747, 0.517803, 0.989531, 0.573592],\n",
    " [0.023518, 0.308972, 0.309716, 0.957676, 0.627981],\n",
    " [0.378282, 0.471542, 0.828432, 0.924927, 0.136859],\n",
    " [0.149238, 0.687459, 0.839423, 0.804331, 0.449794],\n",
    " [0.059971, 0.149196, 0.322004, 0.966295, 0.837838],\n",
    " [0.057201, 0.288546, 0.579544, 0.997802, 0.942594],\n",
    " [0.108501, 0.541329, 0.785262, 0.972868, 0.604562],\n",
    " [0.045382, 0.163913, 0.415992, 0.979117, 0.660901],\n",
    " [0.053275, 0.551109, 0.584299, 0.987044, 0.575415],\n",
    " [0.193013, 0.266126, 0.669146, 0.893537, 0.469507],\n",
    " [0.216444, 0.436391, 0.538461, 0.949193, 0.801654],\n",
    " [0.08403, 0.5365, 0.555386, 0.930668, 0.521049],\n",
    " [0.297373, 0.488406, 0.639552, 0.82482, 0.108272],\n",
    " [0.05208, 0.353153, 0.694577, 0.997546, 0.871548],\n",
    " [0.062288, 0.23907, 0.501786, 0.997972, 0.94685],\n",
    " [0.051261, 0.498289, 0.572681, 0.976696, 0.368675],\n",
    " [0.0617, 0.247266, 0.530017, 0.991894, 0.536928],\n",
    " [0.15621, 0.767971, 0.82983, 0.971684, 0.344136],\n",
    " [0.075949, 0.185496, 0.445216, 0.993202, 0.735547],\n",
    " [0.092614, 0.155384, 0.462681, 0.988, 0.647555],\n",
    " [0.055771, 0.227993, 0.564014, 0.947387, 0.358195],\n",
    " [0.176323, 0.792885, 0.98558, 0.874177, 0.504373],\n",
    " [0.121776, 0.235151, 0.320237, 0.969158, 0.784045],\n",
    " [0.060007, 0.49645, 0.646217, 0.990124, 0.834634],\n",
    " [0.025914, 0.145551, 0.423204, 0.988346, 0.628573],\n",
    " [0.04777, 0.137141, 0.314509, 0.8934, 0.553398],\n",
    " [0.061611, 0.344769, 0.469204, 0.992688, 0.68889],\n",
    " [0.154412, 0.400407, 0.698772, 0.978006, 0.361147],\n",
    " [0.337423, 0.564323, 0.687203, 0.888813, 0.110962],\n",
    " [0.091239, 0.202053, 0.353337, 0.985287, 0.705413],\n",
    " [0.034729, 0.398753, 0.452303, 0.970124, 0.710928],\n",
    " [0.090627, 0.150713, 0.532602, 0.995769, 0.70603],\n",
    " [0.080077, 0.287977, 0.642381, 0.982017, 0.361241],\n",
    " [0.122426, 0.572804, 0.908484, 0.82837, 0.535753],\n",
    " [0.024987, 0.097072, 0.130242, 0.787256, 0.804989],\n",
    " [0.033267, 0.139764, 0.315416, 0.781853, 0.475837],\n",
    " [0.088468, 0.335715, 0.609886, 0.981661, 0.549648],\n",
    " [0.099405, 0.211547, 0.41389, 0.966572, 0.647288],\n",
    " [0.207576, 0.759449, 0.833859, 0.782098, 0.513521],\n",
    " [0.09744, 0.299899, 0.452332, 0.990773, 0.695088],\n",
    " [0.057004, 0.232534, 0.436181, 0.935198, 0.39483],\n",
    " [0.060033, 0.445277, 0.494401, 0.995656, 0.806298],\n",
    " [0.10949, 0.183698, 0.3688, 0.861722, 0.533991],\n",
    " [0.096308, 0.50195, 0.808318, 0.835994, 0.579407],\n",
    " [0.058642, 0.57183, 0.561185, 0.995874, 0.942163],\n",
    " [0.090521, 0.573341, 0.757629, 0.979983, 0.337943],\n",
    " [0.102603, 0.602466, 0.654713, 0.988849, 0.788743],\n",
    " [0.036577, 0.483369, 0.76885, 0.950928, 0.997015],\n",
    " [0.323621, 0.641709, 0.843354, 0.832529, 0.095907],\n",
    " [0.02996, 0.125734, 0.340921, 0.968241, 0.593013],\n",
    " [0.052732, 0.356403, 0.464446, 0.985075, 0.78841],\n",
    " [0.109534, 0.273354, 0.299064, 0.98513, 0.697086],\n",
    " [0.104566, 0.224832, 0.737294, 0.957048, 0.499365],\n",
    " [0.107533, 0.311843, 0.401637, 0.864252, 0.249262],\n",
    " [0.113331, 0.304207, 0.3229, 0.952269, 0.5463, ],\n",
    " [0.044399, 0.474862, 0.768858, 0.833458, 0.641192],\n",
    " [0.060121, 0.446525, 0.64682, 0.968014, 0.548547],\n",
    " [0.130991, 0.461144, 0.874657, 0.942622, 0.581901],\n",
    " [0.023686, 0.236681, 0.448037, 0.989621, 0.680633],\n",
    " [0.044251, 0.560466, 0.586592, 0.992862, 0.750738],\n",
    " [0.223316, 0.34644, 0.758095, 0.879004, 0.125967],\n",
    " [0.09254, 0.311833, 0.5068, 0.990647, 0.59701],\n",
    " [0.115322, 0.327465, 0.695621, 0.979622, 0.49965],\n",
    " [0.257077, 0.605903, 0.765878, 0.860906, 0.087724],\n",
    " [0.149266, 0.727173, 0.824395, 0.967406, 0.472287],\n",
    " [0.04564, 0.444244, 0.714342, 0.880337, 0.490779],\n",
    " [0.129594, 0.211677, 0.368069, 0.980338, 0.531691],\n",
    " [0.129718, 0.287302, 0.463714, 0.961911, 0.536132],\n",
    " [0.115808, 0.51866, 0.53297, 0.994687, 0.762086],\n",
    " [0.127185, 0.733141, 0.810347, 0.950438, 0.44805],\n",
    " [0.338444, 0.686291, 0.83595, 0.910374, 0.757723],\n",
    " [0.055668, 0.29189, 0.487796, 0.960284, 0.442398],\n",
    " [0.047634, 0.180182, 0.401283, 0.97238, 0.563715],\n",
    " [0.034795, 0.243201, 0.867983, 0.697722, 0.409741],\n",
    " [0.057722, 0.376804, 0.448976, 0.931607, 0.328725],\n",
    " [0.138262, 0.322455, 0.627139, 0.985053, 0.517069],\n",
    " [0.261651, 0.256929, 0.832453, 0.974189, 0.380015],\n",
    " [0.169555, 0.614334, 0.66626, 0.979777, 0.507125],\n",
    " [0.306888, 0.734974, 0.899233, 0.959314, 0.174448],\n",
    " [0.367135, 0.597404, 0.930407, 0.913069, 0.105024],\n",
    " [0.099616, 0.374704, 0.523005, 0.966141, 0.449025],\n",
    " [0.152878, 0.627343, 0.703948, 0.975656, 0.460824],\n",
    " [0.140675, 0.415059, 0.702265, 0.979959, 0.747585],\n",
    " [0.043852, 0.303381, 0.480977, 0.992106, 0.626636],\n",
    " [0.025053, 0.388275, 0.615893, 0.998066, 0.89957],\n",
    " [0.064649, 0.374447, 0.609823, 0.981092, 0.522892],\n",
    " [0.047495, 0.29058, 0.372557, 0.941592, 0.873504],\n",
    " [0.077611, 0.597353, 0.89978, 0.959566, 0.542722],\n",
    " [0.184739, 0.416708, 0.680933, 0.98247, 0.38448],\n",
    " [0.259283, 0.343291, 0.650035, 0.802793, 0.092747],\n",
    " [0.047298, 0.187725, 0.413301, 0.919268, 0.608766],\n",
    " [0.151021, 0.664823, 0.732194, 0.972343, 0.504531],\n",
    " [0.060111, 0.266663, 0.413468, 0.997076, 0.772744],\n",
    " [0.205507, 0.325885, 0.362638, 0.306056, 0.164185],\n",
    " [0.101637, 0.661205, 0.859781, 0.982875, 0.440511],\n",
    " [0.040361, 0.288461, 0.459157, 0.983621, 0.658939],\n",
    " [0.055131, 0.222233, 0.507031, 0.998375, 0.984391],\n",
    " [0.036563, 0.215645, 0.428226, 0.962462, 0.700194],\n",
    " [0.123848, 0.421937, 0.875455, 0.962957, 0.616133],\n",
    " [0.052614, 0.184156, 0.271269, 0.813098, 0.500783],\n",
    " [0.051248, 0.28731, 0.373575, 0.972762, 0.749346],\n",
    " [0.314437, 0.873825, 0.94672, 0.823525, 0.354931],\n",
    " [0.118661, 0.408623, 0.516408, 0.994203, 0.921877],\n",
    " [0.039582, 0.247633, 0.451058, 0.984824, 0.59726],\n",
    " [0.057482, 0.093871, 0.41258, 0.987621, 0.60862],\n",
    " [0.09785, 0.634724, 0.736303, 0.965966, 0.195017]])"
   ]
  },
  {
   "cell_type": "code",
   "execution_count": 19,
   "metadata": {
    "colab": {
     "base_uri": "https://localhost:8080/",
     "height": 286
    },
    "colab_type": "code",
    "executionInfo": {
     "elapsed": 2145,
     "status": "ok",
     "timestamp": 1570994241576,
     "user": {
      "displayName": "Agnieszka Miszkurka",
      "photoUrl": "",
      "userId": "10551679906534450752"
     },
     "user_tz": -120
    },
    "id": "7VGS7s8F4dRk",
    "outputId": "8587c545-a4fd-4da0-b605-51a9d4075381"
   },
   "outputs": [
    {
     "data": {
      "text/plain": [
       "<matplotlib.collections.PathCollection at 0x11f9b94a8>"
      ]
     },
     "execution_count": 19,
     "metadata": {},
     "output_type": "execute_result"
    },
    {
     "data": {
      "image/png": "[encoded data removed]",
      "text/plain": [
       "<Figure size 432x288 with 1 Axes>"
      ]
     },
     "metadata": {
      "needs_background": "light"
     },
     "output_type": "display_data"
    }
   ],
   "source": [
    "colors = ['red' if yy == -1 else 'blue' for yy in y]\n",
    "\n",
    "plt.scatter(x[:, 3], x[:, 1], color=colors)"
   ]
  },
  {
   "cell_type": "code",
   "execution_count": 4,
   "metadata": {
    "colab": {},
    "colab_type": "code",
    "id": "4EkHjxw94dRo"
   },
   "outputs": [],
   "source": [
    "# local context for each outlier consisting of normal instances\n",
    "inliners = x[y == 1]\n",
    "outliers = x[y == -1]\n",
    "n_neigh = int(len(inliners) / len(outliers))\n",
    "n_neigh = 30"
   ]
  },
  {
   "cell_type": "code",
   "execution_count": 5,
   "metadata": {
    "colab": {
     "base_uri": "https://localhost:8080/",
     "height": 34
    },
    "colab_type": "code",
    "executionInfo": {
     "elapsed": 710,
     "status": "ok",
     "timestamp": 1570994241578,
     "user": {
      "displayName": "Agnieszka Miszkurka",
      "photoUrl": "",
      "userId": "10551679906534450752"
     },
     "user_tz": -120
    },
    "id": "JUcdjTIF4dRq",
    "outputId": "fbc4531c-1b79-48af-9ac2-61de22c8c235"
   },
   "outputs": [
    {
     "data": {
      "text/plain": [
       "30"
      ]
     },
     "execution_count": 5,
     "metadata": {},
     "output_type": "execute_result"
    }
   ],
   "source": [
    "n_neigh"
   ]
  },
  {
   "cell_type": "code",
   "execution_count": 6,
   "metadata": {
    "colab": {},
    "colab_type": "code",
    "id": "E1OAEFap4dRs"
   },
   "outputs": [],
   "source": [
    "nbrs = NearestNeighbors(n_neighbors=n_neigh, algorithm='kd_tree', metric='euclidean').fit(inliners)"
   ]
  },
  {
   "cell_type": "code",
   "execution_count": 18,
   "metadata": {
    "colab": {
     "base_uri": "https://localhost:8080/",
     "height": 1000
    },
    "colab_type": "code",
    "executionInfo": {
     "elapsed": 685,
     "status": "ok",
     "timestamp": 1570994242525,
     "user": {
      "displayName": "Agnieszka Miszkurka",
      "photoUrl": "",
      "userId": "10551679906534450752"
     },
     "user_tz": -120
    },
    "id": "NcfGhQv84dRu",
    "outputId": "6e386e82-fe06-4a29-a10c-f4605eee8099"
   },
   "outputs": [
    {
     "data": {
      "text/plain": [
       "array([[0.20722028, 0.23096524, 0.31309109, 0.34510925, 0.34739573,\n",
       "        0.37519089, 0.38111721, 0.39498932, 0.40768837, 0.41964455,\n",
       "        0.43384769, 0.43746263, 0.44315682, 0.44911403, 0.4575769 ,\n",
       "        0.45988059, 0.46476231, 0.46751638, 0.4693688 , 0.48369313,\n",
       "        0.48631352, 0.48699911, 0.48921233, 0.48980469, 0.49578194,\n",
       "        0.49925853, 0.5000604 , 0.50203289, 0.50882835, 0.51416107],\n",
       "       [0.17943879, 0.25659394, 0.27889095, 0.35473101, 0.35878355,\n",
       "        0.36199896, 0.39483014, 0.41018764, 0.41653797, 0.44237013,\n",
       "        0.44310151, 0.44833984, 0.45308933, 0.45688507, 0.46066748,\n",
       "        0.46468231, 0.46634476, 0.46676936, 0.46840173, 0.48854743,\n",
       "        0.48962713, 0.49030744, 0.49459641, 0.50227586, 0.51461254,\n",
       "        0.5217052 , 0.525317  , 0.52854675, 0.53866222, 0.54281484],\n",
       "       [0.27174892, 0.31314375, 0.33263117, 0.33810261, 0.34281421,\n",
       "        0.34848901, 0.35060131, 0.35381128, 0.36551293, 0.37079576,\n",
       "        0.37961656, 0.38019838, 0.38035136, 0.38048493, 0.38799464,\n",
       "        0.39405068, 0.39512351, 0.39605618, 0.39935928, 0.39967186,\n",
       "        0.41637414, 0.42059724, 0.42658641, 0.42845421, 0.43887477,\n",
       "        0.45125115, 0.4527041 , 0.4560581 , 0.46810457, 0.47154013],\n",
       "       [0.11477054, 0.18351078, 0.20082939, 0.2014216 , 0.22425684,\n",
       "        0.24240937, 0.25920797, 0.25954085, 0.27850028, 0.28259367,\n",
       "        0.29425225, 0.29951841, 0.32316484, 0.35232823, 0.35631361,\n",
       "        0.36163429, 0.3873369 , 0.38901096, 0.40576693, 0.40730106,\n",
       "        0.41516928, 0.4187222 , 0.43156623, 0.43639383, 0.4451739 ,\n",
       "        0.45998244, 0.46872339, 0.47760196, 0.48407864, 0.50342711],\n",
       "       [0.2058683 , 0.30018241, 0.32799009, 0.35374169, 0.38299174,\n",
       "        0.39818222, 0.43121178, 0.43735875, 0.44487854, 0.44640577,\n",
       "        0.44950075, 0.44993704, 0.4787516 , 0.48307158, 0.49290064,\n",
       "        0.49661879, 0.50279188, 0.51302987, 0.53052268, 0.53955487,\n",
       "        0.55336747, 0.56354143, 0.56480134, 0.56610317, 0.57599341,\n",
       "        0.58150871, 0.58461554, 0.59042998, 0.5995835 , 0.60035957],\n",
       "       [0.20777264, 0.22272844, 0.26516314, 0.32505094, 0.34430935,\n",
       "        0.38176494, 0.38869669, 0.39747316, 0.40929647, 0.41580012,\n",
       "        0.41877534, 0.42849372, 0.43472384, 0.44944447, 0.45572189,\n",
       "        0.47381755, 0.48613382, 0.48696702, 0.49127536, 0.50570323,\n",
       "        0.51085902, 0.51334682, 0.51668933, 0.51731221, 0.52125446,\n",
       "        0.52510259, 0.52805971, 0.52993097, 0.53510257, 0.54733366],\n",
       "       [0.3203358 , 0.3222124 , 0.3380827 , 0.34756236, 0.34974209,\n",
       "        0.35430366, 0.35662229, 0.35869677, 0.3607106 , 0.36153002,\n",
       "        0.36809768, 0.37457686, 0.37666659, 0.38076672, 0.38437598,\n",
       "        0.39390553, 0.40229435, 0.40392404, 0.41142504, 0.41402165,\n",
       "        0.42022796, 0.42219519, 0.43033607, 0.44238979, 0.44948666,\n",
       "        0.45630543, 0.46339123, 0.46668892, 0.47149381, 0.48090619],\n",
       "       [0.2399093 , 0.28418386, 0.28653395, 0.33931414, 0.34536912,\n",
       "        0.34662576, 0.34708924, 0.36128048, 0.37941471, 0.39461122,\n",
       "        0.40772816, 0.43204512, 0.44585143, 0.45511931, 0.4561782 ,\n",
       "        0.45663788, 0.458884  , 0.51577846, 0.52232478, 0.52443011,\n",
       "        0.52679411, 0.53489183, 0.53874295, 0.54153652, 0.57197912,\n",
       "        0.5729234 , 0.58977526, 0.59193557, 0.59382619, 0.59904324],\n",
       "       [0.16588695, 0.33905353, 0.34997198, 0.37987953, 0.40703233,\n",
       "        0.44108661, 0.44381549, 0.45555403, 0.4576879 , 0.45942222,\n",
       "        0.4619308 , 0.46475885, 0.47811804, 0.48852667, 0.50364494,\n",
       "        0.5036563 , 0.52462681, 0.52773447, 0.55292304, 0.55778876,\n",
       "        0.56866458, 0.5730133 , 0.57576672, 0.58442301, 0.58670023,\n",
       "        0.5929252 , 0.5945871 , 0.59725889, 0.6156567 , 0.62842188],\n",
       "       [0.14103967, 0.2815975 , 0.33762814, 0.34550487, 0.35957408,\n",
       "        0.37342105, 0.39069147, 0.3917658 , 0.39300552, 0.39436095,\n",
       "        0.40111588, 0.41917077, 0.42386282, 0.42953167, 0.44298254,\n",
       "        0.45574408, 0.46634951, 0.4684435 , 0.46892629, 0.47372225,\n",
       "        0.47840602, 0.48447582, 0.50723303, 0.51017298, 0.52115198,\n",
       "        0.52587657, 0.52611442, 0.52631368, 0.533677  , 0.53421411],\n",
       "       [0.57457626, 0.62453768, 0.64977033, 0.67102524, 0.68919922,\n",
       "        0.69655789, 0.69775062, 0.71067067, 0.71362978, 0.7221505 ,\n",
       "        0.73214059, 0.73803026, 0.74576123, 0.74785118, 0.75772592,\n",
       "        0.76546674, 0.76759833, 0.76888243, 0.7744187 , 0.78009783,\n",
       "        0.7819598 , 0.78342785, 0.78489338, 0.78763331, 0.79942913,\n",
       "        0.80700593, 0.80732846, 0.81243983, 0.81497745, 0.81709484],\n",
       "       [0.22811268, 0.2682755 , 0.28792888, 0.31341003, 0.31341817,\n",
       "        0.36161562, 0.40116703, 0.40207453, 0.42444093, 0.43416506,\n",
       "        0.44069996, 0.44827683, 0.46320825, 0.48758344, 0.50554064,\n",
       "        0.51346945, 0.52426195, 0.56794094, 0.57256522, 0.57660513,\n",
       "        0.57729836, 0.57889017, 0.58802288, 0.5992434 , 0.6114281 ,\n",
       "        0.6144264 , 0.61567187, 0.6289405 , 0.64753557, 0.64786791]])"
      ]
     },
     "execution_count": 18,
     "metadata": {},
     "output_type": "execute_result"
    }
   ],
   "source": [
    "distances, neighbors = nbrs.kneighbors(outliers)\n",
    "distances"
   ]
  },
  {
   "cell_type": "code",
   "execution_count": 23,
   "metadata": {
    "colab": {
     "base_uri": "https://localhost:8080/",
     "height": 286
    },
    "colab_type": "code",
    "executionInfo": {
     "elapsed": 654,
     "status": "ok",
     "timestamp": 1570994345946,
     "user": {
      "displayName": "Agnieszka Miszkurka",
      "photoUrl": "",
      "userId": "10551679906534450752"
     },
     "user_tz": -120
    },
    "id": "QPkbXpWa4dRw",
    "outputId": "89cc0d64-19c1-4a3c-c28a-60b322645b2f"
   },
   "outputs": [
    {
     "data": {
      "text/plain": [
       "<matplotlib.collections.PathCollection at 0x11fd8f588>"
      ]
     },
     "execution_count": 23,
     "metadata": {},
     "output_type": "execute_result"
    },
    {
     "data": {
      "image/png": "[encoded data removed]",
      "text/plain": [
       "<Figure size 432x288 with 1 Axes>"
      ]
     },
     "metadata": {
      "needs_background": "light"
     },
     "output_type": "display_data"
    }
   ],
   "source": [
    "colors = ['red' if yy == -1 else 'blue' for yy in y]\n",
    "dimx = 4\n",
    "dimy = 2\n",
    "out_num = 3\n",
    "out_neigh = neighbors[out_num]\n",
    "\n",
    "min_dist = min(distances[out_num])\n",
    "circle1 = plt.Circle((outliers[out_num, dimx], outliers[out_num, dimy]), min_dist, color='r', fill=False)\n",
    "plt.gcf().gca().add_artist(circle1)\n",
    "\n",
    "plt.scatter(outliers[:, dimx], outliers[:, dimy], color='red')\n",
    "plt.scatter(inliners[:, dimx], inliners[:, dimy], color='blue')\n",
    "plt.scatter(inliners[out_neigh, dimx], inliners[out_neigh, dimy], color='orange')\n",
    "plt.scatter(outliers[out_num, dimx], outliers[out_num, dimy], color='green')"
   ]
  },
  {
   "cell_type": "code",
   "execution_count": 9,
   "metadata": {
    "colab": {
     "base_uri": "https://localhost:8080/",
     "height": 119
    },
    "colab_type": "code",
    "executionInfo": {
     "elapsed": 633,
     "status": "ok",
     "timestamp": 1570987071518,
     "user": {
      "displayName": "Agnieszka Miszkurka",
      "photoUrl": "",
      "userId": "10551679906534450752"
     },
     "user_tz": -120
    },
    "id": "G5aH2Ksk4dRy",
    "outputId": "93f25ad1-e0fb-4ad1-9d4a-972f9448bb37"
   },
   "outputs": [
    {
     "data": {
      "text/plain": [
       "array([0.22072837, 0.7429213 , 0.82181518, 0.77872779, 0.51543404,\n",
       "       0.20102507, 0.76240926, 0.8219793 , 0.7804716 , 0.50390287,\n",
       "       0.20179851, 0.77589382, 0.83165262, 0.77763716, 0.50423124,\n",
       "       0.2059011 , 0.74472601, 0.8464217 , 0.79278684, 0.50968352,\n",
       "       0.19185335, 0.77041182, 0.84243906, 0.78256933, 0.49445439,\n",
       "       0.207576  , 0.759449  , 0.833859  , 0.782098  , 0.513521  ])"
      ]
     },
     "execution_count": 9,
     "metadata": {},
     "output_type": "execute_result"
    }
   ],
   "source": [
    "n_dimens = len(outliers[0])\n",
    "n_samples = 5\n",
    "# min_dist zamiast 0.01?\n",
    "resampled = np.random.normal(outliers[out_num].tolist(), [0.01 for _ in range(n_dimens)], (n_samples, n_dimens))\n",
    "np.append(resampled, outliers[out_num,:])"
   ]
  },
  {
   "cell_type": "code",
   "execution_count": 10,
   "metadata": {
    "colab": {
     "base_uri": "https://localhost:8080/",
     "height": 286
    },
    "colab_type": "code",
    "executionInfo": {
     "elapsed": 1355,
     "status": "ok",
     "timestamp": 1570987080635,
     "user": {
      "displayName": "Agnieszka Miszkurka",
      "photoUrl": "",
      "userId": "10551679906534450752"
     },
     "user_tz": -120
    },
    "id": "NDV5Y2jO4dR0",
    "outputId": "09fff6db-1267-46a8-cf48-843dcc0c7842"
   },
   "outputs": [
    {
     "data": {
      "text/plain": [
       "<matplotlib.collections.PathCollection at 0x10c216908>"
      ]
     },
     "execution_count": 10,
     "metadata": {},
     "output_type": "execute_result"
    },
    {
     "data": {
      "image/png": "[encoded data removed]",
      "text/plain": [
       "<Figure size 432x288 with 1 Axes>"
      ]
     },
     "metadata": {
      "needs_background": "light"
     },
     "output_type": "display_data"
    }
   ],
   "source": [
    "colors = ['red' if yy == -1 else 'blue' for yy in y]\n",
    "dimx = 0\n",
    "dimy = 1\n",
    "out_num = 3\n",
    "out_neigh = neighbors[out_num]\n",
    "\n",
    "plt.scatter(outliers[:, dimx], outliers[:, dimy], color='red')\n",
    "plt.scatter(inliners[:, dimx], inliners[:, dimy], color='blue')\n",
    "plt.scatter(resampled[:, dimx], resampled[:, dimy], color='orange')\n",
    "plt.scatter(outliers[out_num, dimx], outliers[out_num, dimy], color='green')"
   ]
  },
  {
   "cell_type": "code",
   "execution_count": 11,
   "metadata": {
    "colab": {},
    "colab_type": "code",
    "id": "6mLgyEzS4dR2"
   },
   "outputs": [],
   "source": [
    "context = inliners[out_neigh,:]"
   ]
  },
  {
   "cell_type": "code",
   "execution_count": 12,
   "metadata": {
    "colab": {},
    "colab_type": "code",
    "id": "Q5aHKi9F4dR4"
   },
   "outputs": [],
   "source": [
    "db = DBSCAN(eps=0.1, min_samples=3).fit(context)\n",
    "labels = db.labels_\n",
    "\n",
    "# Number of clusters in labels, ignoring noise if present.\n",
    "n_clusters_ = len(set(labels)) - (1 if -1 in labels else 0)"
   ]
  },
  {
   "cell_type": "code",
   "execution_count": 13,
   "metadata": {
    "colab": {},
    "colab_type": "code",
    "id": "cbDd0ZHA4dR6"
   },
   "outputs": [],
   "source": [
    "components = db.components_"
   ]
  },
  {
   "cell_type": "code",
   "execution_count": 14,
   "metadata": {
    "colab": {
     "base_uri": "https://localhost:8080/",
     "height": 34
    },
    "colab_type": "code",
    "executionInfo": {
     "elapsed": 1312,
     "status": "ok",
     "timestamp": 1570987087903,
     "user": {
      "displayName": "Agnieszka Miszkurka",
      "photoUrl": "",
      "userId": "10551679906534450752"
     },
     "user_tz": -120
    },
    "id": "LC6NyDQJ4dR9",
    "outputId": "67bb3443-a346-47f8-df06-54383792331e"
   },
   "outputs": [
    {
     "data": {
      "text/plain": [
       "30"
      ]
     },
     "execution_count": 14,
     "metadata": {},
     "output_type": "execute_result"
    }
   ],
   "source": [
    "len(context)"
   ]
  },
  {
   "cell_type": "code",
   "execution_count": 15,
   "metadata": {
    "colab": {
     "base_uri": "https://localhost:8080/",
     "height": 281
    },
    "colab_type": "code",
    "executionInfo": {
     "elapsed": 1064,
     "status": "ok",
     "timestamp": 1570987089439,
     "user": {
      "displayName": "Agnieszka Miszkurka",
      "photoUrl": "",
      "userId": "10551679906534450752"
     },
     "user_tz": -120
    },
    "id": "BIKg13ms4dSA",
    "outputId": "61a48457-73f5-4c2a-92f8-82aa76bdb607"
   },
   "outputs": [
    {
     "data": {
      "image/png": "[encoded data removed]",
      "text/plain": [
       "<Figure size 432x288 with 1 Axes>"
      ]
     },
     "metadata": {
      "needs_background": "light"
     },
     "output_type": "display_data"
    }
   ],
   "source": [
    "core_samples_mask = np.zeros_like(db.labels_, dtype=bool)\n",
    "core_samples_mask[db.core_sample_indices_] = True\n",
    "\n",
    "# Black removed and is used for noise instead.\n",
    "unique_labels = set(labels)\n",
    "colors = [plt.cm.Spectral(each)\n",
    "          for each in np.linspace(0, 1, len(unique_labels))]\n",
    "for k, col in zip(unique_labels, colors):\n",
    "    if k == -1:\n",
    "        # Black used for noise.\n",
    "        col = [0, 0, 0, 1]\n",
    "\n",
    "    class_member_mask = (labels == k)\n",
    "\n",
    "    xy = context[class_member_mask & core_samples_mask]\n",
    "    plt.plot(xy[:, 0], xy[:, 1], 'o', markerfacecolor=tuple(col),\n",
    "             markeredgecolor='k', markersize=14)\n",
    "\n",
    "    xy = context[class_member_mask & ~core_samples_mask]\n",
    "    plt.plot(xy[:, 0], xy[:, 1], 'o', markerfacecolor=tuple(col),\n",
    "             markeredgecolor='k', markersize=6)\n",
    "\n",
    "plt.title('Estimated number of clusters: %d' % n_clusters_)\n",
    "plt.show()"
   ]
  },
  {
   "cell_type": "code",
   "execution_count": 4,
   "metadata": {
    "colab": {},
    "colab_type": "code",
    "id": "4hvIRKgCo-It"
   },
   "outputs": [],
   "source": [
    "from utils import "
   ]
  },
  {
   "cell_type": "code",
   "execution_count": 64,
   "metadata": {},
   "outputs": [
    {
     "ename": "AttributeError",
     "evalue": "module 'utils' has no attribute 'explain'",
     "output_type": "error",
     "traceback": [
      "\u001b[0;31m---------------------------------------------------------------------------\u001b[0m",
      "\u001b[0;31mAttributeError\u001b[0m                            Traceback (most recent call last)",
      "\u001b[0;32m<ipython-input-64-78ac5434f15b>\u001b[0m in \u001b[0;36m<module>\u001b[0;34m\u001b[0m\n\u001b[0;32m----> 1\u001b[0;31m \u001b[0mutils\u001b[0m\u001b[0;34m.\u001b[0m\u001b[0mexplain\u001b[0m\u001b[0;34m(\u001b[0m\u001b[0;36m1\u001b[0m\u001b[0;34m,\u001b[0m\u001b[0;36m2\u001b[0m\u001b[0;34m,\u001b[0m\u001b[0;36m3\u001b[0m\u001b[0;34m)\u001b[0m\u001b[0;34m\u001b[0m\u001b[0;34m\u001b[0m\u001b[0m\n\u001b[0m",
      "\u001b[0;31mAttributeError\u001b[0m: module 'utils' has no attribute 'explain'"
     ]
    }
   ],
   "source": [
    "utils.explain(1,2,3)"
   ]
  },
  {
   "cell_type": "code",
   "execution_count": 67,
   "metadata": {},
   "outputs": [
    {
     "ename": "TypeError",
     "evalue": "__init__() takes 1 positional argument but 4 were given",
     "output_type": "error",
     "traceback": [
      "\u001b[0;31m---------------------------------------------------------------------------\u001b[0m",
      "\u001b[0;31mTypeError\u001b[0m                                 Traceback (most recent call last)",
      "\u001b[0;32m<ipython-input-67-621abfd0414d>\u001b[0m in \u001b[0;36m<module>\u001b[0;34m\u001b[0m\n\u001b[0;32m----> 1\u001b[0;31m \u001b[0mo\u001b[0m \u001b[0;34m=\u001b[0m \u001b[0mCoin\u001b[0m\u001b[0;34m.\u001b[0m\u001b[0mCoin\u001b[0m\u001b[0;34m(\u001b[0m\u001b[0;36m1\u001b[0m\u001b[0;34m,\u001b[0m \u001b[0;36m2\u001b[0m\u001b[0;34m,\u001b[0m \u001b[0;36m3\u001b[0m\u001b[0;34m)\u001b[0m\u001b[0;34m\u001b[0m\u001b[0;34m\u001b[0m\u001b[0m\n\u001b[0m",
      "\u001b[0;31mTypeError\u001b[0m: __init__() takes 1 positional argument but 4 were given"
     ]
    }
   ],
   "source": [
    "o = Coin.Coin(1, 2, 3)"
   ]
  },
  {
   "cell_type": "code",
   "execution_count": 66,
   "metadata": {},
   "outputs": [
    {
     "ename": "TypeError",
     "evalue": "explain() takes 2 positional arguments but 3 were given",
     "output_type": "error",
     "traceback": [
      "\u001b[0;31m---------------------------------------------------------------------------\u001b[0m",
      "\u001b[0;31mTypeError\u001b[0m                                 Traceback (most recent call last)",
      "\u001b[0;32m<ipython-input-66-c9ccc3df4708>\u001b[0m in \u001b[0;36m<module>\u001b[0;34m\u001b[0m\n\u001b[0;32m----> 1\u001b[0;31m \u001b[0mo\u001b[0m\u001b[0;34m.\u001b[0m\u001b[0mexplain\u001b[0m\u001b[0;34m(\u001b[0m\u001b[0;36m1\u001b[0m\u001b[0;34m,\u001b[0m \u001b[0;36m2\u001b[0m\u001b[0;34m)\u001b[0m\u001b[0;34m\u001b[0m\u001b[0;34m\u001b[0m\u001b[0m\n\u001b[0m",
      "\u001b[0;31mTypeError\u001b[0m: explain() takes 2 positional arguments but 3 were given"
     ]
    }
   ],
   "source": [
    "o.explain(1, 2)"
   ]
  },
  {
   "cell_type": "code",
   "execution_count": 68,
   "metadata": {},
   "outputs": [
    {
     "name": "stdout",
     "output_type": "stream",
     "text": [
      "<module 'utils.Coin' from '/Users/agnieszkamiszkurka/Documents/studia/inzynierka/serious stuff/repo/utils/Coin.py'>\n"
     ]
    }
   ],
   "source": [
    "print(Coin.__init__"
   ]
  },
  {
   "cell_type": "code",
   "execution_count": 10,
   "metadata": {},
   "outputs": [
    {
     "ename": "NameError",
     "evalue": "name 'Coin' is not defined",
     "output_type": "error",
     "traceback": [
      "\u001b[0;31m---------------------------------------------------------------------------\u001b[0m",
      "\u001b[0;31mNameError\u001b[0m                                 Traceback (most recent call last)",
      "\u001b[0;32m<ipython-input-10-88084a7e23a8>\u001b[0m in \u001b[0;36m<module>\u001b[0;34m\u001b[0m\n\u001b[0;32m----> 1\u001b[0;31m \u001b[0mCoin\u001b[0m\u001b[0;34m\u001b[0m\u001b[0;34m\u001b[0m\u001b[0m\n\u001b[0m",
      "\u001b[0;31mNameError\u001b[0m: name 'Coin' is not defined"
     ]
    }
   ],
   "source": []
  },
  {
   "cell_type": "code",
   "execution_count": null,
   "metadata": {},
   "outputs": [],
   "source": []
  }
 ],
 "metadata": {
  "colab": {
   "collapsed_sections": [],
   "name": "COIN.ipynb",
   "provenance": []
  },
  "kernelspec": {
   "display_name": "Python 3",
   "language": "python",
   "name": "python3"
  },
  "language_info": {
   "codemirror_mode": {
    "name": "ipython",
    "version": 3
   },
   "file_extension": ".py",
   "mimetype": "text/x-python",
   "name": "python",
   "nbconvert_exporter": "python",
   "pygments_lexer": "ipython3",
   "version": "3.7.3"
  }
 },
 "nbformat": 4,
 "nbformat_minor": 1
}
